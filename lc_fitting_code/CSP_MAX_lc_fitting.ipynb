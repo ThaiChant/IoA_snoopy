{
 "cells": [
  {
   "cell_type": "code",
   "execution_count": 1,
   "id": "2cd00deb",
   "metadata": {},
   "outputs": [],
   "source": [
    "#import modules\n",
    "import numpy as np\n",
    "import scipy\n",
    "import snpy\n",
    "import os\n",
    "sn_dir=[]#list of SN in directory that have already been fitter (or attempted to be fitted)\n",
    "countz=0"
   ]
  },
  {
   "cell_type": "code",
   "execution_count": null,
   "id": "6964262d",
   "metadata": {},
   "outputs": [
    {
     "name": "stdout",
     "output_type": "stream",
     "text": [
      "06hx\n",
      "1\n",
      "04ey\n",
      "2\n",
      "06D_\n"
     ]
    }
   ],
   "source": [
    "#Automatic fitter that iterates through the directory for all files ending in snpy.txt\n",
    "for file in os.listdir():\n",
    "    if file.endswith(\"snpy.txt\"):   #this may need to change depending on the directory and other SN data sets\n",
    "        if file[4:8] not in sn_dir: #checks if file has not already been fitted\n",
    "            countz+=1\n",
    "            s=snpy.get_sn(file)   #imports the file into SnooPy\n",
    "            print(file[4:8])    #prints the SN to show which SN is being fitted currently. Allows identification if fitting errors\n",
    "            sn_dir+=[file[4:8]] #adds SN to list before fitting so if errors, doesn't try to fit again\n",
    "            s.choose_model(\"max_model\") #model selection\n",
    "            if \"J\" in s.restbands and \"Jrc2\" in s.restbands:   #identifies the CSP filters used\n",
    "                s.fit([\"B\"])    #initial fit in B-band to determine Tmax\n",
    "                s.fit([\"J\",\"Jrc2\"],Tmax=s.Tmax)   #J-band fitting with Tmax from previous fitting\n",
    "            elif \"Jrc2\" in s.restbands:\n",
    "                s.fit([\"B\"])\n",
    "                s.fit([\"Jrc2\"],Tmax=s.Tmax)\n",
    "            else:\n",
    "                s.fit([\"B\"])\n",
    "                s.fit([\"J\"],Tmax=s.Tmax)\n",
    "            ufl=file[4:8]+'_MAX.snpy'\n",
    "            s.save(ufl)   #saves .snpy file into directory\n",
    "            print(countz) #prints the number to show when each SN was fitted succesfully"
   ]
  },
  {
   "cell_type": "code",
   "execution_count": 2,
   "id": "9e19ff7c",
   "metadata": {},
   "outputs": [],
   "source": [
    "#For SN that error in the automatic fitter, simply run the cell again and it will continue to iterate without all\n",
    "#previous fitted SN (including the SN that errored)"
   ]
  },
  {
   "cell_type": "code",
   "execution_count": 3,
   "id": "68415f16",
   "metadata": {},
   "outputs": [],
   "source": [
    "#For the SN that errored load them manually in the following cell.\n",
    "#This allows you to identify the cause of the error and alter the filters used.\n",
    "#e.g. if poor B-band observations then try V-band in first fitting"
   ]
  },
  {
   "cell_type": "code",
   "execution_count": null,
   "id": "027d5755",
   "metadata": {},
   "outputs": [],
   "source": [
    "file='SN2007jd_snpy.txt'    \n",
    "s=snpy.get_sn(file)\n",
    "s.choose_model(\"max_model\")\n",
    "s.fit([\"B\"])\n",
    "s.fit([\"J\"],Tmax=s.Tmax)\n",
    "ufl=file[4:8]+'_MAX.snpy'\n",
    "#s.save(ufl)    #use #s.save(ufl) until happy with fitting then use s.save(ufl)"
   ]
  }
 ],
 "metadata": {
  "kernelspec": {
   "display_name": "Python 3",
   "language": "python",
   "name": "python3"
  },
  "language_info": {
   "codemirror_mode": {
    "name": "ipython",
    "version": 3
   },
   "file_extension": ".py",
   "mimetype": "text/x-python",
   "name": "python",
   "nbconvert_exporter": "python",
   "pygments_lexer": "ipython3",
   "version": "3.8.10"
  }
 },
 "nbformat": 4,
 "nbformat_minor": 5
}
